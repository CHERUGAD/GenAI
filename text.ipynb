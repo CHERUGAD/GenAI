{
 "cells": [
  {
   "cell_type": "markdown",
   "id": "a2d61d0a",
   "metadata": {},
   "source": [
    "# Text Preprocessing "
   ]
  },
  {
   "cell_type": "markdown",
   "id": "022abd26",
   "metadata": {},
   "source": [
    "Text preprocessing method which is used to transform the text data into clean and formatted which NLP models can easily use."
   ]
  },
  {
   "cell_type": "markdown",
   "id": "dc78af6a",
   "metadata": {},
   "source": [
    "Lowercasing,\n",
    "Removing punctuations,\n",
    "stemming / lemmatization."
   ]
  },
  {
   "cell_type": "markdown",
   "id": "537fd86a",
   "metadata": {},
   "source": []
  },
  {
   "cell_type": "code",
   "execution_count": 1,
   "id": "fa5e55af",
   "metadata": {},
   "outputs": [],
   "source": [
    "import pandas as pd"
   ]
  },
  {
   "cell_type": "code",
   "execution_count": 2,
   "id": "9f2a157f",
   "metadata": {},
   "outputs": [
    {
     "data": {
      "application/vnd.microsoft.datawrangler.viewer.v0+json": {
       "columns": [
        {
         "name": "index",
         "rawType": "int64",
         "type": "integer"
        },
        {
         "name": "review",
         "rawType": "object",
         "type": "string"
        },
        {
         "name": "reviews_lowered",
         "rawType": "object",
         "type": "string"
        }
       ],
       "ref": "df5bc7c4-0d72-4406-b14c-a2968a39abdd",
       "rows": [
        [
         "0",
         "Absolutely loved this product 😍! Works like a charm ✨.",
         "absolutely loved this product 😍! works like a charm ✨."
        ],
        [
         "1",
         "Great customer service 👏 and fast delivery 🚚💨!",
         "great customer service 👏 and fast delivery 🚚💨!"
        ],
        [
         "2",
         "I'm so happy with my purchase 😄👍. Will buy again!",
         "i'm so happy with my purchase 😄👍. will buy again!"
        ],
        [
         "3",
         "The design is sleek and modern 🖤👌 #aesthetic",
         "the design is sleek and modern 🖤👌 #aesthetic"
        ],
        [
         "4",
         "Exceeded my expectations 💯🔥 worth every penny!",
         "exceeded my expectations 💯🔥 worth every penny!"
        ],
        [
         "5",
         "Worst experience ever 😡. Totally disappointed 😞",
         "worst experience ever 😡. totally disappointed 😞"
        ],
        [
         "6",
         "Item arrived broken 💔📦. No response from support 🤷",
         "item arrived broken 💔📦. no response from support 🤷"
        ],
        [
         "7",
         "Not what I expected 👎 Too expensive for the quality 💸",
         "not what i expected 👎 too expensive for the quality 💸"
        ],
        [
         "8",
         "Late delivery and bad packaging 📦❌. Never again!",
         "late delivery and bad packaging 📦❌. never again!"
        ],
        [
         "9",
         "Product looks good but doesn’t work at all 😤🚫",
         "product looks good but doesn’t work at all 😤🚫"
        ],
        [
         "10",
         "Love the features 😍 but the battery dies too fast 😒🔋",
         "love the features 😍 but the battery dies too fast 😒🔋"
        ],
        [
         "11",
         "Nice interface 👌 but app crashes often 😕💥",
         "nice interface 👌 but app crashes often 😕💥"
        ],
        [
         "12",
         "Support team was helpful 🙌 but issue still unresolved 😐",
         "support team was helpful 🙌 but issue still unresolved 😐"
        ],
        [
         "13",
         "Quality is okay 🤷‍♂️. Not amazing, but not terrible either 🤔",
         "quality is okay 🤷‍♂️. not amazing, but not terrible either 🤔"
        ]
       ],
       "shape": {
        "columns": 2,
        "rows": 14
       }
      },
      "text/html": [
       "<div>\n",
       "<style scoped>\n",
       "    .dataframe tbody tr th:only-of-type {\n",
       "        vertical-align: middle;\n",
       "    }\n",
       "\n",
       "    .dataframe tbody tr th {\n",
       "        vertical-align: top;\n",
       "    }\n",
       "\n",
       "    .dataframe thead th {\n",
       "        text-align: right;\n",
       "    }\n",
       "</style>\n",
       "<table border=\"1\" class=\"dataframe\">\n",
       "  <thead>\n",
       "    <tr style=\"text-align: right;\">\n",
       "      <th></th>\n",
       "      <th>review</th>\n",
       "      <th>reviews_lowered</th>\n",
       "    </tr>\n",
       "  </thead>\n",
       "  <tbody>\n",
       "    <tr>\n",
       "      <th>0</th>\n",
       "      <td>Absolutely loved this product 😍! Works like a ...</td>\n",
       "      <td>absolutely loved this product 😍! works like a ...</td>\n",
       "    </tr>\n",
       "    <tr>\n",
       "      <th>1</th>\n",
       "      <td>Great customer service 👏 and fast delivery 🚚💨!</td>\n",
       "      <td>great customer service 👏 and fast delivery 🚚💨!</td>\n",
       "    </tr>\n",
       "    <tr>\n",
       "      <th>2</th>\n",
       "      <td>I'm so happy with my purchase 😄👍. Will buy again!</td>\n",
       "      <td>i'm so happy with my purchase 😄👍. will buy again!</td>\n",
       "    </tr>\n",
       "    <tr>\n",
       "      <th>3</th>\n",
       "      <td>The design is sleek and modern 🖤👌 #aesthetic</td>\n",
       "      <td>the design is sleek and modern 🖤👌 #aesthetic</td>\n",
       "    </tr>\n",
       "    <tr>\n",
       "      <th>4</th>\n",
       "      <td>Exceeded my expectations 💯🔥 worth every penny!</td>\n",
       "      <td>exceeded my expectations 💯🔥 worth every penny!</td>\n",
       "    </tr>\n",
       "    <tr>\n",
       "      <th>5</th>\n",
       "      <td>Worst experience ever 😡. Totally disappointed 😞</td>\n",
       "      <td>worst experience ever 😡. totally disappointed 😞</td>\n",
       "    </tr>\n",
       "    <tr>\n",
       "      <th>6</th>\n",
       "      <td>Item arrived broken 💔📦. No response from suppo...</td>\n",
       "      <td>item arrived broken 💔📦. no response from suppo...</td>\n",
       "    </tr>\n",
       "    <tr>\n",
       "      <th>7</th>\n",
       "      <td>Not what I expected 👎 Too expensive for the qu...</td>\n",
       "      <td>not what i expected 👎 too expensive for the qu...</td>\n",
       "    </tr>\n",
       "    <tr>\n",
       "      <th>8</th>\n",
       "      <td>Late delivery and bad packaging 📦❌. Never again!</td>\n",
       "      <td>late delivery and bad packaging 📦❌. never again!</td>\n",
       "    </tr>\n",
       "    <tr>\n",
       "      <th>9</th>\n",
       "      <td>Product looks good but doesn’t work at all 😤🚫</td>\n",
       "      <td>product looks good but doesn’t work at all 😤🚫</td>\n",
       "    </tr>\n",
       "    <tr>\n",
       "      <th>10</th>\n",
       "      <td>Love the features 😍 but the battery dies too f...</td>\n",
       "      <td>love the features 😍 but the battery dies too f...</td>\n",
       "    </tr>\n",
       "    <tr>\n",
       "      <th>11</th>\n",
       "      <td>Nice interface 👌 but app crashes often 😕💥</td>\n",
       "      <td>nice interface 👌 but app crashes often 😕💥</td>\n",
       "    </tr>\n",
       "    <tr>\n",
       "      <th>12</th>\n",
       "      <td>Support team was helpful 🙌 but issue still unr...</td>\n",
       "      <td>support team was helpful 🙌 but issue still unr...</td>\n",
       "    </tr>\n",
       "    <tr>\n",
       "      <th>13</th>\n",
       "      <td>Quality is okay 🤷‍♂️. Not amazing, but not ter...</td>\n",
       "      <td>quality is okay 🤷‍♂️. not amazing, but not ter...</td>\n",
       "    </tr>\n",
       "  </tbody>\n",
       "</table>\n",
       "</div>"
      ],
      "text/plain": [
       "                                               review  \\\n",
       "0   Absolutely loved this product 😍! Works like a ...   \n",
       "1      Great customer service 👏 and fast delivery 🚚💨!   \n",
       "2   I'm so happy with my purchase 😄👍. Will buy again!   \n",
       "3        The design is sleek and modern 🖤👌 #aesthetic   \n",
       "4      Exceeded my expectations 💯🔥 worth every penny!   \n",
       "5     Worst experience ever 😡. Totally disappointed 😞   \n",
       "6   Item arrived broken 💔📦. No response from suppo...   \n",
       "7   Not what I expected 👎 Too expensive for the qu...   \n",
       "8    Late delivery and bad packaging 📦❌. Never again!   \n",
       "9       Product looks good but doesn’t work at all 😤🚫   \n",
       "10  Love the features 😍 but the battery dies too f...   \n",
       "11          Nice interface 👌 but app crashes often 😕💥   \n",
       "12  Support team was helpful 🙌 but issue still unr...   \n",
       "13  Quality is okay 🤷‍♂️. Not amazing, but not ter...   \n",
       "\n",
       "                                      reviews_lowered  \n",
       "0   absolutely loved this product 😍! works like a ...  \n",
       "1      great customer service 👏 and fast delivery 🚚💨!  \n",
       "2   i'm so happy with my purchase 😄👍. will buy again!  \n",
       "3        the design is sleek and modern 🖤👌 #aesthetic  \n",
       "4      exceeded my expectations 💯🔥 worth every penny!  \n",
       "5     worst experience ever 😡. totally disappointed 😞  \n",
       "6   item arrived broken 💔📦. no response from suppo...  \n",
       "7   not what i expected 👎 too expensive for the qu...  \n",
       "8    late delivery and bad packaging 📦❌. never again!  \n",
       "9       product looks good but doesn’t work at all 😤🚫  \n",
       "10  love the features 😍 but the battery dies too f...  \n",
       "11          nice interface 👌 but app crashes often 😕💥  \n",
       "12  support team was helpful 🙌 but issue still unr...  \n",
       "13  quality is okay 🤷‍♂️. not amazing, but not ter...  "
      ]
     },
     "execution_count": 2,
     "metadata": {},
     "output_type": "execute_result"
    }
   ],
   "source": [
    "reviews = [\n",
    "    \"Absolutely loved this product 😍! Works like a charm ✨.\",\n",
    "    \"Great customer service 👏 and fast delivery 🚚💨!\",\n",
    "    \"I'm so happy with my purchase 😄👍. Will buy again!\",\n",
    "    \"The design is sleek and modern 🖤👌 #aesthetic\",\n",
    "    \"Exceeded my expectations 💯🔥 worth every penny!\",\n",
    "    \"Worst experience ever 😡. Totally disappointed 😞\",\n",
    "    \"Item arrived broken 💔📦. No response from support 🤷\",\n",
    "    \"Not what I expected 👎 Too expensive for the quality 💸\",\n",
    "    \"Late delivery and bad packaging 📦❌. Never again!\",\n",
    "    \"Product looks good but doesn’t work at all 😤🚫\",\n",
    "    \"Love the features 😍 but the battery dies too fast 😒🔋\",\n",
    "    \"Nice interface 👌 but app crashes often 😕💥\",\n",
    "    \"Support team was helpful 🙌 but issue still unresolved 😐\",\n",
    "    \"Quality is okay 🤷‍♂️. Not amazing, but not terrible either 🤔\"\n",
    "]\n",
    "df_reviews = pd.DataFrame(reviews, columns= ['review'])\n",
    "df_reviews['reviews_lowered'] = df_reviews['review'].str.lower()\n",
    "df_reviews\n"
   ]
  },
  {
   "cell_type": "markdown",
   "id": "5faf1ffd",
   "metadata": {},
   "source": [
    "Removing punctuations "
   ]
  },
  {
   "cell_type": "code",
   "execution_count": 3,
   "id": "884cbb92",
   "metadata": {},
   "outputs": [
    {
     "data": {
      "application/vnd.microsoft.datawrangler.viewer.v0+json": {
       "columns": [
        {
         "name": "index",
         "rawType": "int64",
         "type": "integer"
        },
        {
         "name": "review",
         "rawType": "object",
         "type": "string"
        },
        {
         "name": "reviews_lowered",
         "rawType": "object",
         "type": "string"
        },
        {
         "name": "review_punc",
         "rawType": "object",
         "type": "string"
        }
       ],
       "ref": "bf4e698b-9ff9-479c-ace9-d4904b030b39",
       "rows": [
        [
         "0",
         "Absolutely loved this product 😍! Works like a charm ✨.",
         "absolutely loved this product 😍! works like a charm ✨.",
         "absolutely loved this product  works like a charm "
        ],
        [
         "1",
         "Great customer service 👏 and fast delivery 🚚💨!",
         "great customer service 👏 and fast delivery 🚚💨!",
         "great customer service  and fast delivery "
        ],
        [
         "2",
         "I'm so happy with my purchase 😄👍. Will buy again!",
         "i'm so happy with my purchase 😄👍. will buy again!",
         "im so happy with my purchase  will buy again"
        ],
        [
         "3",
         "The design is sleek and modern 🖤👌 #aesthetic",
         "the design is sleek and modern 🖤👌 #aesthetic",
         "the design is sleek and modern  aesthetic"
        ],
        [
         "4",
         "Exceeded my expectations 💯🔥 worth every penny!",
         "exceeded my expectations 💯🔥 worth every penny!",
         "exceeded my expectations  worth every penny"
        ],
        [
         "5",
         "Worst experience ever 😡. Totally disappointed 😞",
         "worst experience ever 😡. totally disappointed 😞",
         "worst experience ever  totally disappointed "
        ],
        [
         "6",
         "Item arrived broken 💔📦. No response from support 🤷",
         "item arrived broken 💔📦. no response from support 🤷",
         "item arrived broken  no response from support "
        ],
        [
         "7",
         "Not what I expected 👎 Too expensive for the quality 💸",
         "not what i expected 👎 too expensive for the quality 💸",
         "not what i expected  too expensive for the quality "
        ],
        [
         "8",
         "Late delivery and bad packaging 📦❌. Never again!",
         "late delivery and bad packaging 📦❌. never again!",
         "late delivery and bad packaging  never again"
        ],
        [
         "9",
         "Product looks good but doesn’t work at all 😤🚫",
         "product looks good but doesn’t work at all 😤🚫",
         "product looks good but doesnt work at all "
        ],
        [
         "10",
         "Love the features 😍 but the battery dies too fast 😒🔋",
         "love the features 😍 but the battery dies too fast 😒🔋",
         "love the features  but the battery dies too fast "
        ],
        [
         "11",
         "Nice interface 👌 but app crashes often 😕💥",
         "nice interface 👌 but app crashes often 😕💥",
         "nice interface  but app crashes often "
        ],
        [
         "12",
         "Support team was helpful 🙌 but issue still unresolved 😐",
         "support team was helpful 🙌 but issue still unresolved 😐",
         "support team was helpful  but issue still unresolved "
        ],
        [
         "13",
         "Quality is okay 🤷‍♂️. Not amazing, but not terrible either 🤔",
         "quality is okay 🤷‍♂️. not amazing, but not terrible either 🤔",
         "quality is okay  not amazing but not terrible either "
        ]
       ],
       "shape": {
        "columns": 3,
        "rows": 14
       }
      },
      "text/html": [
       "<div>\n",
       "<style scoped>\n",
       "    .dataframe tbody tr th:only-of-type {\n",
       "        vertical-align: middle;\n",
       "    }\n",
       "\n",
       "    .dataframe tbody tr th {\n",
       "        vertical-align: top;\n",
       "    }\n",
       "\n",
       "    .dataframe thead th {\n",
       "        text-align: right;\n",
       "    }\n",
       "</style>\n",
       "<table border=\"1\" class=\"dataframe\">\n",
       "  <thead>\n",
       "    <tr style=\"text-align: right;\">\n",
       "      <th></th>\n",
       "      <th>review</th>\n",
       "      <th>reviews_lowered</th>\n",
       "      <th>review_punc</th>\n",
       "    </tr>\n",
       "  </thead>\n",
       "  <tbody>\n",
       "    <tr>\n",
       "      <th>0</th>\n",
       "      <td>Absolutely loved this product 😍! Works like a ...</td>\n",
       "      <td>absolutely loved this product 😍! works like a ...</td>\n",
       "      <td>absolutely loved this product  works like a ch...</td>\n",
       "    </tr>\n",
       "    <tr>\n",
       "      <th>1</th>\n",
       "      <td>Great customer service 👏 and fast delivery 🚚💨!</td>\n",
       "      <td>great customer service 👏 and fast delivery 🚚💨!</td>\n",
       "      <td>great customer service  and fast delivery</td>\n",
       "    </tr>\n",
       "    <tr>\n",
       "      <th>2</th>\n",
       "      <td>I'm so happy with my purchase 😄👍. Will buy again!</td>\n",
       "      <td>i'm so happy with my purchase 😄👍. will buy again!</td>\n",
       "      <td>im so happy with my purchase  will buy again</td>\n",
       "    </tr>\n",
       "    <tr>\n",
       "      <th>3</th>\n",
       "      <td>The design is sleek and modern 🖤👌 #aesthetic</td>\n",
       "      <td>the design is sleek and modern 🖤👌 #aesthetic</td>\n",
       "      <td>the design is sleek and modern  aesthetic</td>\n",
       "    </tr>\n",
       "    <tr>\n",
       "      <th>4</th>\n",
       "      <td>Exceeded my expectations 💯🔥 worth every penny!</td>\n",
       "      <td>exceeded my expectations 💯🔥 worth every penny!</td>\n",
       "      <td>exceeded my expectations  worth every penny</td>\n",
       "    </tr>\n",
       "    <tr>\n",
       "      <th>5</th>\n",
       "      <td>Worst experience ever 😡. Totally disappointed 😞</td>\n",
       "      <td>worst experience ever 😡. totally disappointed 😞</td>\n",
       "      <td>worst experience ever  totally disappointed</td>\n",
       "    </tr>\n",
       "    <tr>\n",
       "      <th>6</th>\n",
       "      <td>Item arrived broken 💔📦. No response from suppo...</td>\n",
       "      <td>item arrived broken 💔📦. no response from suppo...</td>\n",
       "      <td>item arrived broken  no response from support</td>\n",
       "    </tr>\n",
       "    <tr>\n",
       "      <th>7</th>\n",
       "      <td>Not what I expected 👎 Too expensive for the qu...</td>\n",
       "      <td>not what i expected 👎 too expensive for the qu...</td>\n",
       "      <td>not what i expected  too expensive for the qua...</td>\n",
       "    </tr>\n",
       "    <tr>\n",
       "      <th>8</th>\n",
       "      <td>Late delivery and bad packaging 📦❌. Never again!</td>\n",
       "      <td>late delivery and bad packaging 📦❌. never again!</td>\n",
       "      <td>late delivery and bad packaging  never again</td>\n",
       "    </tr>\n",
       "    <tr>\n",
       "      <th>9</th>\n",
       "      <td>Product looks good but doesn’t work at all 😤🚫</td>\n",
       "      <td>product looks good but doesn’t work at all 😤🚫</td>\n",
       "      <td>product looks good but doesnt work at all</td>\n",
       "    </tr>\n",
       "    <tr>\n",
       "      <th>10</th>\n",
       "      <td>Love the features 😍 but the battery dies too f...</td>\n",
       "      <td>love the features 😍 but the battery dies too f...</td>\n",
       "      <td>love the features  but the battery dies too fast</td>\n",
       "    </tr>\n",
       "    <tr>\n",
       "      <th>11</th>\n",
       "      <td>Nice interface 👌 but app crashes often 😕💥</td>\n",
       "      <td>nice interface 👌 but app crashes often 😕💥</td>\n",
       "      <td>nice interface  but app crashes often</td>\n",
       "    </tr>\n",
       "    <tr>\n",
       "      <th>12</th>\n",
       "      <td>Support team was helpful 🙌 but issue still unr...</td>\n",
       "      <td>support team was helpful 🙌 but issue still unr...</td>\n",
       "      <td>support team was helpful  but issue still unre...</td>\n",
       "    </tr>\n",
       "    <tr>\n",
       "      <th>13</th>\n",
       "      <td>Quality is okay 🤷‍♂️. Not amazing, but not ter...</td>\n",
       "      <td>quality is okay 🤷‍♂️. not amazing, but not ter...</td>\n",
       "      <td>quality is okay  not amazing but not terrible ...</td>\n",
       "    </tr>\n",
       "  </tbody>\n",
       "</table>\n",
       "</div>"
      ],
      "text/plain": [
       "                                               review  \\\n",
       "0   Absolutely loved this product 😍! Works like a ...   \n",
       "1      Great customer service 👏 and fast delivery 🚚💨!   \n",
       "2   I'm so happy with my purchase 😄👍. Will buy again!   \n",
       "3        The design is sleek and modern 🖤👌 #aesthetic   \n",
       "4      Exceeded my expectations 💯🔥 worth every penny!   \n",
       "5     Worst experience ever 😡. Totally disappointed 😞   \n",
       "6   Item arrived broken 💔📦. No response from suppo...   \n",
       "7   Not what I expected 👎 Too expensive for the qu...   \n",
       "8    Late delivery and bad packaging 📦❌. Never again!   \n",
       "9       Product looks good but doesn’t work at all 😤🚫   \n",
       "10  Love the features 😍 but the battery dies too f...   \n",
       "11          Nice interface 👌 but app crashes often 😕💥   \n",
       "12  Support team was helpful 🙌 but issue still unr...   \n",
       "13  Quality is okay 🤷‍♂️. Not amazing, but not ter...   \n",
       "\n",
       "                                      reviews_lowered  \\\n",
       "0   absolutely loved this product 😍! works like a ...   \n",
       "1      great customer service 👏 and fast delivery 🚚💨!   \n",
       "2   i'm so happy with my purchase 😄👍. will buy again!   \n",
       "3        the design is sleek and modern 🖤👌 #aesthetic   \n",
       "4      exceeded my expectations 💯🔥 worth every penny!   \n",
       "5     worst experience ever 😡. totally disappointed 😞   \n",
       "6   item arrived broken 💔📦. no response from suppo...   \n",
       "7   not what i expected 👎 too expensive for the qu...   \n",
       "8    late delivery and bad packaging 📦❌. never again!   \n",
       "9       product looks good but doesn’t work at all 😤🚫   \n",
       "10  love the features 😍 but the battery dies too f...   \n",
       "11          nice interface 👌 but app crashes often 😕💥   \n",
       "12  support team was helpful 🙌 but issue still unr...   \n",
       "13  quality is okay 🤷‍♂️. not amazing, but not ter...   \n",
       "\n",
       "                                          review_punc  \n",
       "0   absolutely loved this product  works like a ch...  \n",
       "1          great customer service  and fast delivery   \n",
       "2        im so happy with my purchase  will buy again  \n",
       "3           the design is sleek and modern  aesthetic  \n",
       "4         exceeded my expectations  worth every penny  \n",
       "5        worst experience ever  totally disappointed   \n",
       "6      item arrived broken  no response from support   \n",
       "7   not what i expected  too expensive for the qua...  \n",
       "8        late delivery and bad packaging  never again  \n",
       "9          product looks good but doesnt work at all   \n",
       "10  love the features  but the battery dies too fast   \n",
       "11             nice interface  but app crashes often   \n",
       "12  support team was helpful  but issue still unre...  \n",
       "13  quality is okay  not amazing but not terrible ...  "
      ]
     },
     "execution_count": 3,
     "metadata": {},
     "output_type": "execute_result"
    }
   ],
   "source": [
    "import re\n",
    "df_reviews['review_punc'] = df_reviews['reviews_lowered'].apply(lambda x:re.sub(r'[^\\w\\s]', '', x) )\n",
    "df_reviews"
   ]
  },
  {
   "cell_type": "markdown",
   "id": "aed40cd1",
   "metadata": {},
   "source": [
    "Removing stopwords"
   ]
  },
  {
   "cell_type": "code",
   "execution_count": 4,
   "id": "791a23dc",
   "metadata": {},
   "outputs": [
    {
     "name": "stderr",
     "output_type": "stream",
     "text": [
      "[nltk_data] Downloading package stopwords to\n",
      "[nltk_data]     C:\\Users\\Cheru\\AppData\\Roaming\\nltk_data...\n",
      "[nltk_data]   Unzipping corpora\\stopwords.zip.\n"
     ]
    }
   ],
   "source": [
    "import nltk\n",
    "from nltk.corpus import stopwords\n",
    "\n",
    "\n",
    "nltk.download('stopwords')\n",
    "\n",
    "\n",
    "stopword_set = set(stopwords.words('english'))\n",
    "\n",
    "\n",
    "df_reviews[\"remove_stopwords\"] = df_reviews['review_punc'].apply(\n",
    "    lambda x: ' '.join(word for word in x.split() if word not in stopword_set)\n",
    ")\n"
   ]
  },
  {
   "cell_type": "code",
   "execution_count": 6,
   "id": "95e6fd06",
   "metadata": {},
   "outputs": [
    {
     "data": {
      "application/vnd.microsoft.datawrangler.viewer.v0+json": {
       "columns": [
        {
         "name": "index",
         "rawType": "int64",
         "type": "integer"
        },
        {
         "name": "review",
         "rawType": "object",
         "type": "string"
        },
        {
         "name": "reviews_lowered",
         "rawType": "object",
         "type": "string"
        },
        {
         "name": "review_punc",
         "rawType": "object",
         "type": "string"
        },
        {
         "name": "remove_stopwords",
         "rawType": "object",
         "type": "string"
        }
       ],
       "ref": "ac9083fa-1ddb-429a-b474-8b251366dab8",
       "rows": [
        [
         "0",
         "Absolutely loved this product 😍! Works like a charm ✨.",
         "absolutely loved this product 😍! works like a charm ✨.",
         "absolutely loved this product  works like a charm ",
         "absolutely loved product works like charm"
        ],
        [
         "1",
         "Great customer service 👏 and fast delivery 🚚💨!",
         "great customer service 👏 and fast delivery 🚚💨!",
         "great customer service  and fast delivery ",
         "great customer service fast delivery"
        ],
        [
         "2",
         "I'm so happy with my purchase 😄👍. Will buy again!",
         "i'm so happy with my purchase 😄👍. will buy again!",
         "im so happy with my purchase  will buy again",
         "im happy purchase buy"
        ],
        [
         "3",
         "The design is sleek and modern 🖤👌 #aesthetic",
         "the design is sleek and modern 🖤👌 #aesthetic",
         "the design is sleek and modern  aesthetic",
         "design sleek modern aesthetic"
        ],
        [
         "4",
         "Exceeded my expectations 💯🔥 worth every penny!",
         "exceeded my expectations 💯🔥 worth every penny!",
         "exceeded my expectations  worth every penny",
         "exceeded expectations worth every penny"
        ],
        [
         "5",
         "Worst experience ever 😡. Totally disappointed 😞",
         "worst experience ever 😡. totally disappointed 😞",
         "worst experience ever  totally disappointed ",
         "worst experience ever totally disappointed"
        ],
        [
         "6",
         "Item arrived broken 💔📦. No response from support 🤷",
         "item arrived broken 💔📦. no response from support 🤷",
         "item arrived broken  no response from support ",
         "item arrived broken response support"
        ],
        [
         "7",
         "Not what I expected 👎 Too expensive for the quality 💸",
         "not what i expected 👎 too expensive for the quality 💸",
         "not what i expected  too expensive for the quality ",
         "expected expensive quality"
        ],
        [
         "8",
         "Late delivery and bad packaging 📦❌. Never again!",
         "late delivery and bad packaging 📦❌. never again!",
         "late delivery and bad packaging  never again",
         "late delivery bad packaging never"
        ],
        [
         "9",
         "Product looks good but doesn’t work at all 😤🚫",
         "product looks good but doesn’t work at all 😤🚫",
         "product looks good but doesnt work at all ",
         "product looks good doesnt work"
        ],
        [
         "10",
         "Love the features 😍 but the battery dies too fast 😒🔋",
         "love the features 😍 but the battery dies too fast 😒🔋",
         "love the features  but the battery dies too fast ",
         "love features battery dies fast"
        ],
        [
         "11",
         "Nice interface 👌 but app crashes often 😕💥",
         "nice interface 👌 but app crashes often 😕💥",
         "nice interface  but app crashes often ",
         "nice interface app crashes often"
        ],
        [
         "12",
         "Support team was helpful 🙌 but issue still unresolved 😐",
         "support team was helpful 🙌 but issue still unresolved 😐",
         "support team was helpful  but issue still unresolved ",
         "support team helpful issue still unresolved"
        ],
        [
         "13",
         "Quality is okay 🤷‍♂️. Not amazing, but not terrible either 🤔",
         "quality is okay 🤷‍♂️. not amazing, but not terrible either 🤔",
         "quality is okay  not amazing but not terrible either ",
         "quality okay amazing terrible either"
        ]
       ],
       "shape": {
        "columns": 4,
        "rows": 14
       }
      },
      "text/html": [
       "<div>\n",
       "<style scoped>\n",
       "    .dataframe tbody tr th:only-of-type {\n",
       "        vertical-align: middle;\n",
       "    }\n",
       "\n",
       "    .dataframe tbody tr th {\n",
       "        vertical-align: top;\n",
       "    }\n",
       "\n",
       "    .dataframe thead th {\n",
       "        text-align: right;\n",
       "    }\n",
       "</style>\n",
       "<table border=\"1\" class=\"dataframe\">\n",
       "  <thead>\n",
       "    <tr style=\"text-align: right;\">\n",
       "      <th></th>\n",
       "      <th>review</th>\n",
       "      <th>reviews_lowered</th>\n",
       "      <th>review_punc</th>\n",
       "      <th>remove_stopwords</th>\n",
       "    </tr>\n",
       "  </thead>\n",
       "  <tbody>\n",
       "    <tr>\n",
       "      <th>0</th>\n",
       "      <td>Absolutely loved this product 😍! Works like a ...</td>\n",
       "      <td>absolutely loved this product 😍! works like a ...</td>\n",
       "      <td>absolutely loved this product  works like a ch...</td>\n",
       "      <td>absolutely loved product works like charm</td>\n",
       "    </tr>\n",
       "    <tr>\n",
       "      <th>1</th>\n",
       "      <td>Great customer service 👏 and fast delivery 🚚💨!</td>\n",
       "      <td>great customer service 👏 and fast delivery 🚚💨!</td>\n",
       "      <td>great customer service  and fast delivery</td>\n",
       "      <td>great customer service fast delivery</td>\n",
       "    </tr>\n",
       "    <tr>\n",
       "      <th>2</th>\n",
       "      <td>I'm so happy with my purchase 😄👍. Will buy again!</td>\n",
       "      <td>i'm so happy with my purchase 😄👍. will buy again!</td>\n",
       "      <td>im so happy with my purchase  will buy again</td>\n",
       "      <td>im happy purchase buy</td>\n",
       "    </tr>\n",
       "    <tr>\n",
       "      <th>3</th>\n",
       "      <td>The design is sleek and modern 🖤👌 #aesthetic</td>\n",
       "      <td>the design is sleek and modern 🖤👌 #aesthetic</td>\n",
       "      <td>the design is sleek and modern  aesthetic</td>\n",
       "      <td>design sleek modern aesthetic</td>\n",
       "    </tr>\n",
       "    <tr>\n",
       "      <th>4</th>\n",
       "      <td>Exceeded my expectations 💯🔥 worth every penny!</td>\n",
       "      <td>exceeded my expectations 💯🔥 worth every penny!</td>\n",
       "      <td>exceeded my expectations  worth every penny</td>\n",
       "      <td>exceeded expectations worth every penny</td>\n",
       "    </tr>\n",
       "    <tr>\n",
       "      <th>5</th>\n",
       "      <td>Worst experience ever 😡. Totally disappointed 😞</td>\n",
       "      <td>worst experience ever 😡. totally disappointed 😞</td>\n",
       "      <td>worst experience ever  totally disappointed</td>\n",
       "      <td>worst experience ever totally disappointed</td>\n",
       "    </tr>\n",
       "    <tr>\n",
       "      <th>6</th>\n",
       "      <td>Item arrived broken 💔📦. No response from suppo...</td>\n",
       "      <td>item arrived broken 💔📦. no response from suppo...</td>\n",
       "      <td>item arrived broken  no response from support</td>\n",
       "      <td>item arrived broken response support</td>\n",
       "    </tr>\n",
       "    <tr>\n",
       "      <th>7</th>\n",
       "      <td>Not what I expected 👎 Too expensive for the qu...</td>\n",
       "      <td>not what i expected 👎 too expensive for the qu...</td>\n",
       "      <td>not what i expected  too expensive for the qua...</td>\n",
       "      <td>expected expensive quality</td>\n",
       "    </tr>\n",
       "    <tr>\n",
       "      <th>8</th>\n",
       "      <td>Late delivery and bad packaging 📦❌. Never again!</td>\n",
       "      <td>late delivery and bad packaging 📦❌. never again!</td>\n",
       "      <td>late delivery and bad packaging  never again</td>\n",
       "      <td>late delivery bad packaging never</td>\n",
       "    </tr>\n",
       "    <tr>\n",
       "      <th>9</th>\n",
       "      <td>Product looks good but doesn’t work at all 😤🚫</td>\n",
       "      <td>product looks good but doesn’t work at all 😤🚫</td>\n",
       "      <td>product looks good but doesnt work at all</td>\n",
       "      <td>product looks good doesnt work</td>\n",
       "    </tr>\n",
       "    <tr>\n",
       "      <th>10</th>\n",
       "      <td>Love the features 😍 but the battery dies too f...</td>\n",
       "      <td>love the features 😍 but the battery dies too f...</td>\n",
       "      <td>love the features  but the battery dies too fast</td>\n",
       "      <td>love features battery dies fast</td>\n",
       "    </tr>\n",
       "    <tr>\n",
       "      <th>11</th>\n",
       "      <td>Nice interface 👌 but app crashes often 😕💥</td>\n",
       "      <td>nice interface 👌 but app crashes often 😕💥</td>\n",
       "      <td>nice interface  but app crashes often</td>\n",
       "      <td>nice interface app crashes often</td>\n",
       "    </tr>\n",
       "    <tr>\n",
       "      <th>12</th>\n",
       "      <td>Support team was helpful 🙌 but issue still unr...</td>\n",
       "      <td>support team was helpful 🙌 but issue still unr...</td>\n",
       "      <td>support team was helpful  but issue still unre...</td>\n",
       "      <td>support team helpful issue still unresolved</td>\n",
       "    </tr>\n",
       "    <tr>\n",
       "      <th>13</th>\n",
       "      <td>Quality is okay 🤷‍♂️. Not amazing, but not ter...</td>\n",
       "      <td>quality is okay 🤷‍♂️. not amazing, but not ter...</td>\n",
       "      <td>quality is okay  not amazing but not terrible ...</td>\n",
       "      <td>quality okay amazing terrible either</td>\n",
       "    </tr>\n",
       "  </tbody>\n",
       "</table>\n",
       "</div>"
      ],
      "text/plain": [
       "                                               review  \\\n",
       "0   Absolutely loved this product 😍! Works like a ...   \n",
       "1      Great customer service 👏 and fast delivery 🚚💨!   \n",
       "2   I'm so happy with my purchase 😄👍. Will buy again!   \n",
       "3        The design is sleek and modern 🖤👌 #aesthetic   \n",
       "4      Exceeded my expectations 💯🔥 worth every penny!   \n",
       "5     Worst experience ever 😡. Totally disappointed 😞   \n",
       "6   Item arrived broken 💔📦. No response from suppo...   \n",
       "7   Not what I expected 👎 Too expensive for the qu...   \n",
       "8    Late delivery and bad packaging 📦❌. Never again!   \n",
       "9       Product looks good but doesn’t work at all 😤🚫   \n",
       "10  Love the features 😍 but the battery dies too f...   \n",
       "11          Nice interface 👌 but app crashes often 😕💥   \n",
       "12  Support team was helpful 🙌 but issue still unr...   \n",
       "13  Quality is okay 🤷‍♂️. Not amazing, but not ter...   \n",
       "\n",
       "                                      reviews_lowered  \\\n",
       "0   absolutely loved this product 😍! works like a ...   \n",
       "1      great customer service 👏 and fast delivery 🚚💨!   \n",
       "2   i'm so happy with my purchase 😄👍. will buy again!   \n",
       "3        the design is sleek and modern 🖤👌 #aesthetic   \n",
       "4      exceeded my expectations 💯🔥 worth every penny!   \n",
       "5     worst experience ever 😡. totally disappointed 😞   \n",
       "6   item arrived broken 💔📦. no response from suppo...   \n",
       "7   not what i expected 👎 too expensive for the qu...   \n",
       "8    late delivery and bad packaging 📦❌. never again!   \n",
       "9       product looks good but doesn’t work at all 😤🚫   \n",
       "10  love the features 😍 but the battery dies too f...   \n",
       "11          nice interface 👌 but app crashes often 😕💥   \n",
       "12  support team was helpful 🙌 but issue still unr...   \n",
       "13  quality is okay 🤷‍♂️. not amazing, but not ter...   \n",
       "\n",
       "                                          review_punc  \\\n",
       "0   absolutely loved this product  works like a ch...   \n",
       "1          great customer service  and fast delivery    \n",
       "2        im so happy with my purchase  will buy again   \n",
       "3           the design is sleek and modern  aesthetic   \n",
       "4         exceeded my expectations  worth every penny   \n",
       "5        worst experience ever  totally disappointed    \n",
       "6      item arrived broken  no response from support    \n",
       "7   not what i expected  too expensive for the qua...   \n",
       "8        late delivery and bad packaging  never again   \n",
       "9          product looks good but doesnt work at all    \n",
       "10  love the features  but the battery dies too fast    \n",
       "11             nice interface  but app crashes often    \n",
       "12  support team was helpful  but issue still unre...   \n",
       "13  quality is okay  not amazing but not terrible ...   \n",
       "\n",
       "                               remove_stopwords  \n",
       "0     absolutely loved product works like charm  \n",
       "1          great customer service fast delivery  \n",
       "2                         im happy purchase buy  \n",
       "3                 design sleek modern aesthetic  \n",
       "4       exceeded expectations worth every penny  \n",
       "5    worst experience ever totally disappointed  \n",
       "6          item arrived broken response support  \n",
       "7                    expected expensive quality  \n",
       "8             late delivery bad packaging never  \n",
       "9                product looks good doesnt work  \n",
       "10              love features battery dies fast  \n",
       "11             nice interface app crashes often  \n",
       "12  support team helpful issue still unresolved  \n",
       "13         quality okay amazing terrible either  "
      ]
     },
     "execution_count": 6,
     "metadata": {},
     "output_type": "execute_result"
    }
   ],
   "source": [
    "df_reviews"
   ]
  },
  {
   "cell_type": "code",
   "execution_count": 7,
   "id": "8cd2a418",
   "metadata": {},
   "outputs": [
    {
     "name": "stderr",
     "output_type": "stream",
     "text": [
      "[nltk_data] Downloading package wordnet to\n",
      "[nltk_data]     C:\\Users\\Cheru\\AppData\\Roaming\\nltk_data...\n"
     ]
    }
   ],
   "source": [
    "from nltk.stem import WordNetLemmatizer\n",
    "nltk.download('wordnet')\n",
    "lemmatizer  = WordNetLemmatizer()\n",
    "df_reviews['lemmatise'] = df_reviews['remove_stopwords'].apply(lambda x :[lemmatizer.lemmatize(word) for word in x.split()])"
   ]
  },
  {
   "cell_type": "code",
   "execution_count": 8,
   "id": "f39db70e",
   "metadata": {},
   "outputs": [
    {
     "data": {
      "application/vnd.microsoft.datawrangler.viewer.v0+json": {
       "columns": [
        {
         "name": "index",
         "rawType": "int64",
         "type": "integer"
        },
        {
         "name": "review",
         "rawType": "object",
         "type": "string"
        },
        {
         "name": "reviews_lowered",
         "rawType": "object",
         "type": "string"
        },
        {
         "name": "review_punc",
         "rawType": "object",
         "type": "string"
        },
        {
         "name": "remove_stopwords",
         "rawType": "object",
         "type": "string"
        },
        {
         "name": "lemmatise",
         "rawType": "object",
         "type": "unknown"
        }
       ],
       "ref": "64c03f55-aae8-410b-86c4-2ea6997c2111",
       "rows": [
        [
         "0",
         "Absolutely loved this product 😍! Works like a charm ✨.",
         "absolutely loved this product 😍! works like a charm ✨.",
         "absolutely loved this product  works like a charm ",
         "absolutely loved product works like charm",
         "['absolutely', 'loved', 'product', 'work', 'like', 'charm']"
        ],
        [
         "1",
         "Great customer service 👏 and fast delivery 🚚💨!",
         "great customer service 👏 and fast delivery 🚚💨!",
         "great customer service  and fast delivery ",
         "great customer service fast delivery",
         "['great', 'customer', 'service', 'fast', 'delivery']"
        ],
        [
         "2",
         "I'm so happy with my purchase 😄👍. Will buy again!",
         "i'm so happy with my purchase 😄👍. will buy again!",
         "im so happy with my purchase  will buy again",
         "im happy purchase buy",
         "['im', 'happy', 'purchase', 'buy']"
        ],
        [
         "3",
         "The design is sleek and modern 🖤👌 #aesthetic",
         "the design is sleek and modern 🖤👌 #aesthetic",
         "the design is sleek and modern  aesthetic",
         "design sleek modern aesthetic",
         "['design', 'sleek', 'modern', 'aesthetic']"
        ],
        [
         "4",
         "Exceeded my expectations 💯🔥 worth every penny!",
         "exceeded my expectations 💯🔥 worth every penny!",
         "exceeded my expectations  worth every penny",
         "exceeded expectations worth every penny",
         "['exceeded', 'expectation', 'worth', 'every', 'penny']"
        ],
        [
         "5",
         "Worst experience ever 😡. Totally disappointed 😞",
         "worst experience ever 😡. totally disappointed 😞",
         "worst experience ever  totally disappointed ",
         "worst experience ever totally disappointed",
         "['worst', 'experience', 'ever', 'totally', 'disappointed']"
        ],
        [
         "6",
         "Item arrived broken 💔📦. No response from support 🤷",
         "item arrived broken 💔📦. no response from support 🤷",
         "item arrived broken  no response from support ",
         "item arrived broken response support",
         "['item', 'arrived', 'broken', 'response', 'support']"
        ],
        [
         "7",
         "Not what I expected 👎 Too expensive for the quality 💸",
         "not what i expected 👎 too expensive for the quality 💸",
         "not what i expected  too expensive for the quality ",
         "expected expensive quality",
         "['expected', 'expensive', 'quality']"
        ],
        [
         "8",
         "Late delivery and bad packaging 📦❌. Never again!",
         "late delivery and bad packaging 📦❌. never again!",
         "late delivery and bad packaging  never again",
         "late delivery bad packaging never",
         "['late', 'delivery', 'bad', 'packaging', 'never']"
        ],
        [
         "9",
         "Product looks good but doesn’t work at all 😤🚫",
         "product looks good but doesn’t work at all 😤🚫",
         "product looks good but doesnt work at all ",
         "product looks good doesnt work",
         "['product', 'look', 'good', 'doesnt', 'work']"
        ],
        [
         "10",
         "Love the features 😍 but the battery dies too fast 😒🔋",
         "love the features 😍 but the battery dies too fast 😒🔋",
         "love the features  but the battery dies too fast ",
         "love features battery dies fast",
         "['love', 'feature', 'battery', 'dy', 'fast']"
        ],
        [
         "11",
         "Nice interface 👌 but app crashes often 😕💥",
         "nice interface 👌 but app crashes often 😕💥",
         "nice interface  but app crashes often ",
         "nice interface app crashes often",
         "['nice', 'interface', 'app', 'crash', 'often']"
        ],
        [
         "12",
         "Support team was helpful 🙌 but issue still unresolved 😐",
         "support team was helpful 🙌 but issue still unresolved 😐",
         "support team was helpful  but issue still unresolved ",
         "support team helpful issue still unresolved",
         "['support', 'team', 'helpful', 'issue', 'still', 'unresolved']"
        ],
        [
         "13",
         "Quality is okay 🤷‍♂️. Not amazing, but not terrible either 🤔",
         "quality is okay 🤷‍♂️. not amazing, but not terrible either 🤔",
         "quality is okay  not amazing but not terrible either ",
         "quality okay amazing terrible either",
         "['quality', 'okay', 'amazing', 'terrible', 'either']"
        ]
       ],
       "shape": {
        "columns": 5,
        "rows": 14
       }
      },
      "text/html": [
       "<div>\n",
       "<style scoped>\n",
       "    .dataframe tbody tr th:only-of-type {\n",
       "        vertical-align: middle;\n",
       "    }\n",
       "\n",
       "    .dataframe tbody tr th {\n",
       "        vertical-align: top;\n",
       "    }\n",
       "\n",
       "    .dataframe thead th {\n",
       "        text-align: right;\n",
       "    }\n",
       "</style>\n",
       "<table border=\"1\" class=\"dataframe\">\n",
       "  <thead>\n",
       "    <tr style=\"text-align: right;\">\n",
       "      <th></th>\n",
       "      <th>review</th>\n",
       "      <th>reviews_lowered</th>\n",
       "      <th>review_punc</th>\n",
       "      <th>remove_stopwords</th>\n",
       "      <th>lemmatise</th>\n",
       "    </tr>\n",
       "  </thead>\n",
       "  <tbody>\n",
       "    <tr>\n",
       "      <th>0</th>\n",
       "      <td>Absolutely loved this product 😍! Works like a ...</td>\n",
       "      <td>absolutely loved this product 😍! works like a ...</td>\n",
       "      <td>absolutely loved this product  works like a ch...</td>\n",
       "      <td>absolutely loved product works like charm</td>\n",
       "      <td>[absolutely, loved, product, work, like, charm]</td>\n",
       "    </tr>\n",
       "    <tr>\n",
       "      <th>1</th>\n",
       "      <td>Great customer service 👏 and fast delivery 🚚💨!</td>\n",
       "      <td>great customer service 👏 and fast delivery 🚚💨!</td>\n",
       "      <td>great customer service  and fast delivery</td>\n",
       "      <td>great customer service fast delivery</td>\n",
       "      <td>[great, customer, service, fast, delivery]</td>\n",
       "    </tr>\n",
       "    <tr>\n",
       "      <th>2</th>\n",
       "      <td>I'm so happy with my purchase 😄👍. Will buy again!</td>\n",
       "      <td>i'm so happy with my purchase 😄👍. will buy again!</td>\n",
       "      <td>im so happy with my purchase  will buy again</td>\n",
       "      <td>im happy purchase buy</td>\n",
       "      <td>[im, happy, purchase, buy]</td>\n",
       "    </tr>\n",
       "    <tr>\n",
       "      <th>3</th>\n",
       "      <td>The design is sleek and modern 🖤👌 #aesthetic</td>\n",
       "      <td>the design is sleek and modern 🖤👌 #aesthetic</td>\n",
       "      <td>the design is sleek and modern  aesthetic</td>\n",
       "      <td>design sleek modern aesthetic</td>\n",
       "      <td>[design, sleek, modern, aesthetic]</td>\n",
       "    </tr>\n",
       "    <tr>\n",
       "      <th>4</th>\n",
       "      <td>Exceeded my expectations 💯🔥 worth every penny!</td>\n",
       "      <td>exceeded my expectations 💯🔥 worth every penny!</td>\n",
       "      <td>exceeded my expectations  worth every penny</td>\n",
       "      <td>exceeded expectations worth every penny</td>\n",
       "      <td>[exceeded, expectation, worth, every, penny]</td>\n",
       "    </tr>\n",
       "    <tr>\n",
       "      <th>5</th>\n",
       "      <td>Worst experience ever 😡. Totally disappointed 😞</td>\n",
       "      <td>worst experience ever 😡. totally disappointed 😞</td>\n",
       "      <td>worst experience ever  totally disappointed</td>\n",
       "      <td>worst experience ever totally disappointed</td>\n",
       "      <td>[worst, experience, ever, totally, disappointed]</td>\n",
       "    </tr>\n",
       "    <tr>\n",
       "      <th>6</th>\n",
       "      <td>Item arrived broken 💔📦. No response from suppo...</td>\n",
       "      <td>item arrived broken 💔📦. no response from suppo...</td>\n",
       "      <td>item arrived broken  no response from support</td>\n",
       "      <td>item arrived broken response support</td>\n",
       "      <td>[item, arrived, broken, response, support]</td>\n",
       "    </tr>\n",
       "    <tr>\n",
       "      <th>7</th>\n",
       "      <td>Not what I expected 👎 Too expensive for the qu...</td>\n",
       "      <td>not what i expected 👎 too expensive for the qu...</td>\n",
       "      <td>not what i expected  too expensive for the qua...</td>\n",
       "      <td>expected expensive quality</td>\n",
       "      <td>[expected, expensive, quality]</td>\n",
       "    </tr>\n",
       "    <tr>\n",
       "      <th>8</th>\n",
       "      <td>Late delivery and bad packaging 📦❌. Never again!</td>\n",
       "      <td>late delivery and bad packaging 📦❌. never again!</td>\n",
       "      <td>late delivery and bad packaging  never again</td>\n",
       "      <td>late delivery bad packaging never</td>\n",
       "      <td>[late, delivery, bad, packaging, never]</td>\n",
       "    </tr>\n",
       "    <tr>\n",
       "      <th>9</th>\n",
       "      <td>Product looks good but doesn’t work at all 😤🚫</td>\n",
       "      <td>product looks good but doesn’t work at all 😤🚫</td>\n",
       "      <td>product looks good but doesnt work at all</td>\n",
       "      <td>product looks good doesnt work</td>\n",
       "      <td>[product, look, good, doesnt, work]</td>\n",
       "    </tr>\n",
       "    <tr>\n",
       "      <th>10</th>\n",
       "      <td>Love the features 😍 but the battery dies too f...</td>\n",
       "      <td>love the features 😍 but the battery dies too f...</td>\n",
       "      <td>love the features  but the battery dies too fast</td>\n",
       "      <td>love features battery dies fast</td>\n",
       "      <td>[love, feature, battery, dy, fast]</td>\n",
       "    </tr>\n",
       "    <tr>\n",
       "      <th>11</th>\n",
       "      <td>Nice interface 👌 but app crashes often 😕💥</td>\n",
       "      <td>nice interface 👌 but app crashes often 😕💥</td>\n",
       "      <td>nice interface  but app crashes often</td>\n",
       "      <td>nice interface app crashes often</td>\n",
       "      <td>[nice, interface, app, crash, often]</td>\n",
       "    </tr>\n",
       "    <tr>\n",
       "      <th>12</th>\n",
       "      <td>Support team was helpful 🙌 but issue still unr...</td>\n",
       "      <td>support team was helpful 🙌 but issue still unr...</td>\n",
       "      <td>support team was helpful  but issue still unre...</td>\n",
       "      <td>support team helpful issue still unresolved</td>\n",
       "      <td>[support, team, helpful, issue, still, unresol...</td>\n",
       "    </tr>\n",
       "    <tr>\n",
       "      <th>13</th>\n",
       "      <td>Quality is okay 🤷‍♂️. Not amazing, but not ter...</td>\n",
       "      <td>quality is okay 🤷‍♂️. not amazing, but not ter...</td>\n",
       "      <td>quality is okay  not amazing but not terrible ...</td>\n",
       "      <td>quality okay amazing terrible either</td>\n",
       "      <td>[quality, okay, amazing, terrible, either]</td>\n",
       "    </tr>\n",
       "  </tbody>\n",
       "</table>\n",
       "</div>"
      ],
      "text/plain": [
       "                                               review  \\\n",
       "0   Absolutely loved this product 😍! Works like a ...   \n",
       "1      Great customer service 👏 and fast delivery 🚚💨!   \n",
       "2   I'm so happy with my purchase 😄👍. Will buy again!   \n",
       "3        The design is sleek and modern 🖤👌 #aesthetic   \n",
       "4      Exceeded my expectations 💯🔥 worth every penny!   \n",
       "5     Worst experience ever 😡. Totally disappointed 😞   \n",
       "6   Item arrived broken 💔📦. No response from suppo...   \n",
       "7   Not what I expected 👎 Too expensive for the qu...   \n",
       "8    Late delivery and bad packaging 📦❌. Never again!   \n",
       "9       Product looks good but doesn’t work at all 😤🚫   \n",
       "10  Love the features 😍 but the battery dies too f...   \n",
       "11          Nice interface 👌 but app crashes often 😕💥   \n",
       "12  Support team was helpful 🙌 but issue still unr...   \n",
       "13  Quality is okay 🤷‍♂️. Not amazing, but not ter...   \n",
       "\n",
       "                                      reviews_lowered  \\\n",
       "0   absolutely loved this product 😍! works like a ...   \n",
       "1      great customer service 👏 and fast delivery 🚚💨!   \n",
       "2   i'm so happy with my purchase 😄👍. will buy again!   \n",
       "3        the design is sleek and modern 🖤👌 #aesthetic   \n",
       "4      exceeded my expectations 💯🔥 worth every penny!   \n",
       "5     worst experience ever 😡. totally disappointed 😞   \n",
       "6   item arrived broken 💔📦. no response from suppo...   \n",
       "7   not what i expected 👎 too expensive for the qu...   \n",
       "8    late delivery and bad packaging 📦❌. never again!   \n",
       "9       product looks good but doesn’t work at all 😤🚫   \n",
       "10  love the features 😍 but the battery dies too f...   \n",
       "11          nice interface 👌 but app crashes often 😕💥   \n",
       "12  support team was helpful 🙌 but issue still unr...   \n",
       "13  quality is okay 🤷‍♂️. not amazing, but not ter...   \n",
       "\n",
       "                                          review_punc  \\\n",
       "0   absolutely loved this product  works like a ch...   \n",
       "1          great customer service  and fast delivery    \n",
       "2        im so happy with my purchase  will buy again   \n",
       "3           the design is sleek and modern  aesthetic   \n",
       "4         exceeded my expectations  worth every penny   \n",
       "5        worst experience ever  totally disappointed    \n",
       "6      item arrived broken  no response from support    \n",
       "7   not what i expected  too expensive for the qua...   \n",
       "8        late delivery and bad packaging  never again   \n",
       "9          product looks good but doesnt work at all    \n",
       "10  love the features  but the battery dies too fast    \n",
       "11             nice interface  but app crashes often    \n",
       "12  support team was helpful  but issue still unre...   \n",
       "13  quality is okay  not amazing but not terrible ...   \n",
       "\n",
       "                               remove_stopwords  \\\n",
       "0     absolutely loved product works like charm   \n",
       "1          great customer service fast delivery   \n",
       "2                         im happy purchase buy   \n",
       "3                 design sleek modern aesthetic   \n",
       "4       exceeded expectations worth every penny   \n",
       "5    worst experience ever totally disappointed   \n",
       "6          item arrived broken response support   \n",
       "7                    expected expensive quality   \n",
       "8             late delivery bad packaging never   \n",
       "9                product looks good doesnt work   \n",
       "10              love features battery dies fast   \n",
       "11             nice interface app crashes often   \n",
       "12  support team helpful issue still unresolved   \n",
       "13         quality okay amazing terrible either   \n",
       "\n",
       "                                            lemmatise  \n",
       "0     [absolutely, loved, product, work, like, charm]  \n",
       "1          [great, customer, service, fast, delivery]  \n",
       "2                          [im, happy, purchase, buy]  \n",
       "3                  [design, sleek, modern, aesthetic]  \n",
       "4        [exceeded, expectation, worth, every, penny]  \n",
       "5    [worst, experience, ever, totally, disappointed]  \n",
       "6          [item, arrived, broken, response, support]  \n",
       "7                      [expected, expensive, quality]  \n",
       "8             [late, delivery, bad, packaging, never]  \n",
       "9                 [product, look, good, doesnt, work]  \n",
       "10                 [love, feature, battery, dy, fast]  \n",
       "11               [nice, interface, app, crash, often]  \n",
       "12  [support, team, helpful, issue, still, unresol...  \n",
       "13         [quality, okay, amazing, terrible, either]  "
      ]
     },
     "execution_count": 8,
     "metadata": {},
     "output_type": "execute_result"
    }
   ],
   "source": [
    "df_reviews"
   ]
  },
  {
   "cell_type": "code",
   "execution_count": null,
   "id": "0aff6aa0",
   "metadata": {},
   "outputs": [],
   "source": []
  }
 ],
 "metadata": {
  "kernelspec": {
   "display_name": "Python 3",
   "language": "python",
   "name": "python3"
  },
  "language_info": {
   "codemirror_mode": {
    "name": "ipython",
    "version": 3
   },
   "file_extension": ".py",
   "mimetype": "text/x-python",
   "name": "python",
   "nbconvert_exporter": "python",
   "pygments_lexer": "ipython3",
   "version": "3.12.10"
  }
 },
 "nbformat": 4,
 "nbformat_minor": 5
}
